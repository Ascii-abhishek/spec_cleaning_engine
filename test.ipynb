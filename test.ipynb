{
 "cells": [
  {
   "cell_type": "code",
   "execution_count": 1,
   "id": "f8def35d",
   "metadata": {},
   "outputs": [],
   "source": [
    "%load_ext autoreload\n",
    "%autoreload 2"
   ]
  },
  {
   "cell_type": "code",
   "execution_count": 2,
   "id": "f15b1f98",
   "metadata": {},
   "outputs": [],
   "source": [
    "from utils.db_utils import *\n",
    "from utils.data_utils import *\n",
    "from cleaning_utils import *\n",
    "from cleaning_helpers import *"
   ]
  },
  {
   "cell_type": "code",
   "execution_count": 3,
   "id": "11453b54",
   "metadata": {},
   "outputs": [],
   "source": [
    "logger = logging.getLogger(__name__)"
   ]
  },
  {
   "cell_type": "markdown",
   "id": "b4db1588",
   "metadata": {},
   "source": [
    "## Hercules DB"
   ]
  },
  {
   "cell_type": "code",
   "execution_count": 4,
   "id": "30975b06",
   "metadata": {},
   "outputs": [
    {
     "name": "stderr",
     "output_type": "stream",
     "text": [
      "2025-06-08 18:56:07,976 - INFO - Creating database engine for source: raptor_catalog\n",
      "2025-06-08 18:56:08,017 - INFO - Creating pandas DataFrame from query: SELECT * \n",
      "FROM hercules_db.ce_wrong_meth\n",
      ", attempt 1\n",
      "2025-06-08 18:56:09,324 - INFO - Creating pandas DataFrame from query: SELECT attribute_name \n",
      "FROM hercules_db.ce_varchar_attributes\n",
      ", attempt 1\n",
      "2025-06-08 18:56:09,553 - INFO - Creating pandas DataFrame from query: SELECT l3_name, attribute_name \n",
      "FROM views.l3_a\n",
      "WHERE attribute_type = 'primary'\n",
      ", attempt 1\n",
      "2025-06-08 18:56:10,369 - INFO - Creating pandas DataFrame from query: SELECT units, display, type, space, separator, range, \n",
      "       system_of_measurement, fraction_multip, attempt 1\n"
     ]
    }
   ],
   "source": [
    "from utils.query_utils import get_query\n",
    "\n",
    "query_wrong_meth = get_query(\"QUERY_WRONG_METH\")\n",
    "query_varchar_attribs = get_query(\"QUERY_VARCHAR_ATTRIBS\")\n",
    "query_primary_attribs = get_query(\"QUERY_PRIMARY_ATTRIBS\")\n",
    "query_unit_mapping = get_query(\"QUERY_UNIT_MAPPING\")\n",
    "\n",
    "wrong_methods_attributes = df_from_query(query_wrong_meth)\n",
    "varchar_attributes = df_from_query(query_varchar_attribs)\n",
    "primary_attributes = df_from_query(query_primary_attribs)\n",
    "unit_mapping = df_from_query(query_unit_mapping)"
   ]
  },
  {
   "cell_type": "markdown",
   "id": "83608da8",
   "metadata": {},
   "source": [
    "## Data"
   ]
  },
  {
   "cell_type": "code",
   "execution_count": 11,
   "id": "a45571f5",
   "metadata": {},
   "outputs": [],
   "source": [
    "# categorical_test = pd.read_csv(\"/home/abhishek/projects/cleaning/data/old/categorical_source_test.csv\", low_memory=False)\n",
    "# categorical2_test = pd.read_csv(\"/home/abhishek/projects/cleaning/data/old/categorical2_source_test.csv\", low_memory=False)\n",
    "# range1_test = pd.read_csv(\"/home/abhishek/projects/cleaning/data/old/range1_source_test.csv\", low_memory=False)\n",
    "# varchar_test = pd.read_csv(\"/home/abhishek/projects/cleaning/data/old/varchar_source_test.csv\", low_memory=False)\n",
    "# n_with_u_test = pd.read_csv(\"/home/abhishek/projects/cleaning/data/old/n_with_u_source_test.csv\", low_memory=False)\n",
    "# total_test = pd.read_excel(\"/home/abhishek/projects/cleaning/data/old/cleaning_issues_23_april.xlsx\")\n",
    "\n",
    "# categorical_test = ce_start_cleanup(categorical_test)\n",
    "# categorical2_test = ce_start_cleanup(categorical2_test)\n",
    "# range1_test = ce_start_cleanup(range1_test)\n",
    "# varchar_test = ce_start_cleanup(varchar_test)\n",
    "# n_with_u_test = ce_start_cleanup(n_with_u_test)\n",
    "# total_test = ce_start_cleanup(total_test)\n",
    "\n",
    "df = ensure_pd_df(\"/Users/abhishekpathak/projects/cleaning/data/sealmaster_to_cleaning.xlsx\")"
   ]
  },
  {
   "cell_type": "code",
   "execution_count": 5,
   "id": "f136b4c5",
   "metadata": {},
   "outputs": [
    {
     "data": {
      "text/plain": [
       "Index(['MPN', 'Brand', 'entity_id', 'int_pid', 'l3_name', 'Attribute',\n",
       "       'Value'],\n",
       "      dtype='object')"
      ]
     },
     "execution_count": 5,
     "metadata": {},
     "output_type": "execute_result"
    }
   ],
   "source": [
    "df.columns"
   ]
  },
  {
   "cell_type": "code",
   "execution_count": 12,
   "id": "5803930f",
   "metadata": {},
   "outputs": [],
   "source": [
    "df = df.loc[:, [\"int_pid\", \"l3_name\", \"Attribute\", \"Value\"]]\n",
    "df.rename(columns={\"Attribute\": \"attribute_name\", \"Value\": \"attribute_value\"}, inplace=True)"
   ]
  },
  {
   "cell_type": "code",
   "execution_count": 13,
   "id": "5e81981d",
   "metadata": {},
   "outputs": [
    {
     "data": {
      "application/vnd.microsoft.datawrangler.viewer.v0+json": {
       "columns": [
        {
         "name": "index",
         "rawType": "int64",
         "type": "integer"
        },
        {
         "name": "int_pid",
         "rawType": "int64",
         "type": "integer"
        },
        {
         "name": "l3_name",
         "rawType": "object",
         "type": "string"
        },
        {
         "name": "attribute_name",
         "rawType": "object",
         "type": "string"
        },
        {
         "name": "attribute_value",
         "rawType": "object",
         "type": "string"
        }
       ],
       "ref": "ccc611c4-165b-49d1-bbbd-84f03f5835f7",
       "rows": [
        [
         "0",
         "2003615",
         "Mounted Bearings",
         "ability to relubricate",
         "rp_Yes"
        ],
        [
         "1",
         "2003614",
         "Mounted Bearings",
         "ability to relubricate",
         "rp_Yes"
        ],
        [
         "2",
         "2003607",
         "Ball Screw Support Bearings",
         "ability to relubricate",
         "rp_Yes"
        ],
        [
         "3",
         "2003606",
         "Ball Screw Support Bearings",
         "ability to relubricate",
         "rp_No"
        ],
        [
         "4",
         "2003601",
         "Ball Screw Support Bearings",
         "ability to relubricate",
         "rp_Yes"
        ]
       ],
       "shape": {
        "columns": 4,
        "rows": 5
       }
      },
      "text/html": [
       "<div>\n",
       "<style scoped>\n",
       "    .dataframe tbody tr th:only-of-type {\n",
       "        vertical-align: middle;\n",
       "    }\n",
       "\n",
       "    .dataframe tbody tr th {\n",
       "        vertical-align: top;\n",
       "    }\n",
       "\n",
       "    .dataframe thead th {\n",
       "        text-align: right;\n",
       "    }\n",
       "</style>\n",
       "<table border=\"1\" class=\"dataframe\">\n",
       "  <thead>\n",
       "    <tr style=\"text-align: right;\">\n",
       "      <th></th>\n",
       "      <th>int_pid</th>\n",
       "      <th>l3_name</th>\n",
       "      <th>attribute_name</th>\n",
       "      <th>attribute_value</th>\n",
       "    </tr>\n",
       "  </thead>\n",
       "  <tbody>\n",
       "    <tr>\n",
       "      <th>0</th>\n",
       "      <td>2003615</td>\n",
       "      <td>Mounted Bearings</td>\n",
       "      <td>ability to relubricate</td>\n",
       "      <td>rp_Yes</td>\n",
       "    </tr>\n",
       "    <tr>\n",
       "      <th>1</th>\n",
       "      <td>2003614</td>\n",
       "      <td>Mounted Bearings</td>\n",
       "      <td>ability to relubricate</td>\n",
       "      <td>rp_Yes</td>\n",
       "    </tr>\n",
       "    <tr>\n",
       "      <th>2</th>\n",
       "      <td>2003607</td>\n",
       "      <td>Ball Screw Support Bearings</td>\n",
       "      <td>ability to relubricate</td>\n",
       "      <td>rp_Yes</td>\n",
       "    </tr>\n",
       "    <tr>\n",
       "      <th>3</th>\n",
       "      <td>2003606</td>\n",
       "      <td>Ball Screw Support Bearings</td>\n",
       "      <td>ability to relubricate</td>\n",
       "      <td>rp_No</td>\n",
       "    </tr>\n",
       "    <tr>\n",
       "      <th>4</th>\n",
       "      <td>2003601</td>\n",
       "      <td>Ball Screw Support Bearings</td>\n",
       "      <td>ability to relubricate</td>\n",
       "      <td>rp_Yes</td>\n",
       "    </tr>\n",
       "  </tbody>\n",
       "</table>\n",
       "</div>"
      ],
      "text/plain": [
       "   int_pid                      l3_name          attribute_name  \\\n",
       "0  2003615             Mounted Bearings  ability to relubricate   \n",
       "1  2003614             Mounted Bearings  ability to relubricate   \n",
       "2  2003607  Ball Screw Support Bearings  ability to relubricate   \n",
       "3  2003606  Ball Screw Support Bearings  ability to relubricate   \n",
       "4  2003601  Ball Screw Support Bearings  ability to relubricate   \n",
       "\n",
       "  attribute_value  \n",
       "0          rp_Yes  \n",
       "1          rp_Yes  \n",
       "2          rp_Yes  \n",
       "3           rp_No  \n",
       "4          rp_Yes  "
      ]
     },
     "execution_count": 13,
     "metadata": {},
     "output_type": "execute_result"
    }
   ],
   "source": [
    "df.head()"
   ]
  },
  {
   "cell_type": "code",
   "execution_count": 14,
   "id": "2b3f8c6c",
   "metadata": {},
   "outputs": [],
   "source": [
    "df.to_csv(\"/Users/abhishekpathak/projects/cleaning/data/sealmaster_to_cleaning.csv\", index=False)"
   ]
  },
  {
   "cell_type": "code",
   "execution_count": 15,
   "id": "6b0464a8",
   "metadata": {},
   "outputs": [
    {
     "data": {
      "text/plain": [
       "Index(['int_pid', 'l3_name', 'attribute_name', 'attribute_value'], dtype='object')"
      ]
     },
     "execution_count": 15,
     "metadata": {},
     "output_type": "execute_result"
    }
   ],
   "source": [
    "df.columns"
   ]
  },
  {
   "cell_type": "code",
   "execution_count": 8,
   "id": "cf149ce3",
   "metadata": {},
   "outputs": [],
   "source": [
    "from ce_new.ce_new import run_cleanup_pipeline"
   ]
  },
  {
   "cell_type": "code",
   "execution_count": 6,
   "id": "82aa0843",
   "metadata": {},
   "outputs": [],
   "source": [
    "df = ensure_pd_df(\"/Users/abhishekpathak/projects/cleaning/data/sealmaster_to_cleaning.csv\")"
   ]
  },
  {
   "cell_type": "code",
   "execution_count": 9,
   "id": "f4c08d91",
   "metadata": {},
   "outputs": [
    {
     "name": "stderr",
     "output_type": "stream",
     "text": [
      "2025-06-08 19:12:05,176 - INFO - Starting cleanup pipeline with base directory: /Users/abhishekpathak/projects/cleaning/data/cleaning_otp\n",
      "2025-06-08 19:12:05,176 - INFO - Input DataFrame has 89242 rows and 4 columns.\n",
      "2025-06-08 19:12:05,380 - INFO - After initial cleanup, 89242 rows remain.\n",
      "2025-06-08 19:12:05,381 - INFO - Starting clean_numerical_unit on 89242 rows.\n",
      "2025-06-08 19:12:05,500 - INFO - 29604 rows matched regex; 59638 did not.\n",
      "2025-06-08 19:12:05,779 - INFO - Finished clean_numerical_unit: 29604 passed, 0 had errors, 59638 did not match.\n",
      "2025-06-08 19:12:05,849 - INFO - Starting clean_numerical_unit on 59638 rows.\n",
      "2025-06-08 19:12:05,872 - INFO - Finished clean_thread: 0 passed, 2332 had errors, 57306 did not match.\n",
      "2025-06-08 19:12:05,881 - INFO - Starting clean_dimension_values with separator: [' x ', ' X '] on 57306 rows.\n",
      "2025-06-08 19:12:06,072 - INFO - Starting clean_numerical_unit on 57306 rows.\n",
      "2025-06-08 19:12:06,136 - INFO - 0 rows matched regex; 57306 did not.\n",
      "2025-06-08 19:12:06,147 - INFO - Finished clean_numerical_unit: 0 passed, 0 had errors, 57306 did not match.\n",
      "2025-06-08 19:12:06,154 - INFO - Finished clean_dimension_values: 0 passed, 0 had errors, 57306 did not match.\n",
      "2025-06-08 19:12:06,160 - INFO - Starting clean_range_with_to_and_plus_minus on 57306 rows.\n",
      "2025-06-08 19:12:06,160 - INFO - Starting clean_dimension_values with separator: [' to ', '/', ' / '] on 57306 rows.\n",
      "2025-06-08 19:12:06,412 - INFO - Starting clean_numerical_unit on 59324 rows.\n",
      "2025-06-08 19:12:06,479 - INFO - 24 rows matched regex; 59300 did not.\n",
      "2025-06-08 19:12:06,491 - INFO - Finished clean_numerical_unit: 24 passed, 0 had errors, 59300 did not match.\n",
      "2025-06-08 19:12:06,498 - INFO - Finished clean_dimension_values: 24 passed, 0 had errors, 59300 did not match.\n",
      "2025-06-08 19:12:06,509 - INFO - Starting unit standardization.\n",
      "2025-06-08 19:12:06,524 - INFO - Unit standardization complete: 22 valid, 0 invalid.\n",
      "2025-06-08 19:12:06,524 - INFO - Starting unit standardization.\n",
      "2025-06-08 19:12:06,539 - INFO - Unit standardization complete: 22 valid, 0 invalid.\n",
      "2025-06-08 19:12:06,540 - INFO - Finished clean_range_with_to_and_plus_minus: 22 passed, 0 had errors, 59300 did not match.\n"
     ]
    }
   ],
   "source": [
    "run_cleanup_pipeline(\n",
    "    df,\n",
    "    unit_mapping,\n",
    "    \"/Users/abhishekpathak/projects/cleaning/data/cleaning_otp\"\n",
    ")"
   ]
  },
  {
   "cell_type": "code",
   "execution_count": null,
   "id": "4bda43b0",
   "metadata": {},
   "outputs": [],
   "source": []
  }
 ],
 "metadata": {
  "kernelspec": {
   "display_name": ".venv",
   "language": "python",
   "name": "python3"
  },
  "language_info": {
   "codemirror_mode": {
    "name": "ipython",
    "version": 3
   },
   "file_extension": ".py",
   "mimetype": "text/x-python",
   "name": "python",
   "nbconvert_exporter": "python",
   "pygments_lexer": "ipython3",
   "version": "3.12.10"
  }
 },
 "nbformat": 4,
 "nbformat_minor": 5
}
